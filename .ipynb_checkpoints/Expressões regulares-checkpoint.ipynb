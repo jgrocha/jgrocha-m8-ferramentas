{
 "cells": [
  {
   "cell_type": "markdown",
   "metadata": {},
   "source": [
    "### Sequências\n",
    "\n",
    "https://www.ncbi.nlm.nih.gov/genbank/\n",
    "\n",
    "Exemplo e a explicação da estrutura\n",
    "\n",
    "https://www.ncbi.nlm.nih.gov/Sitemap/samplerecord.html\n",
    "\n",
    "https://www.insdc.org/submitting-standards/feature-table/\n",
    "\n",
    "http://biopython.org/DIST/docs/tutorial/Tutorial.html\n",
    "\n",
    "http://www.genebio.ufba.br/genbank/\n",
    "\n",
    "https://www.ncbi.nlm.nih.gov/nuccore/L42022\n",
    "https://www.ncbi.nlm.nih.gov/nuccore/L42023\n",
    "https://www.ncbi.nlm.nih.gov/nuccore/LC740868.1\n",
    "\n",
    "https://www.ncbi.nlm.nih.gov/sviewer/viewer.cgi?tool=portal&save=file&log$=seqview&db=nuccore&report=genbank&id=804715&conwithfeat=on&hide-cdd=on&ncbi_phid=null\n"
   ]
  },
  {
   "cell_type": "code",
   "execution_count": 54,
   "metadata": {},
   "outputs": [
    {
     "name": "stdout",
     "output_type": "stream",
     "text": [
      "Title On\n",
      "ORIGIN On\n",
      "Off\n",
      "L42022.1\n",
      "KEYWORDS    gag gene; p24 protein.\n",
      "\n",
      "REFERENCE   1  (bases 1 to 231)\n",
      "  AUTHORS   Voevodin,A., Crandall,K.A., Seth,P. and al Mufti,S.\n",
      "  TITLE     HIV type 1 subtypes B and C from new regions of India and Indian\n",
      "            and Ethiopian expatriates in Kuwait\n",
      "  JOURNAL   AIDS Res. Hum. Retroviruses 12 (7), 641-643 (1996)\n",
      "   PUBMED   8743090\n",
      "\n",
      "catccagtacatgcagggcctattgcaccaggccaaatgagagaaccaaggggaagtgacatagcaggaactacaagtacccttcaggaacaagtagcatggatgacaggtaacccacctgttccagtgggagaaatctataaaagatggataattctgggattaaataaaatagtaagaatgtatagccctgtcagcattttggacataaaacaagggccaaaggaaccc\n"
     ]
    }
   ],
   "source": [
    "import re\n",
    "\n",
    "sequencia = \"\"\n",
    "references = \"\" # passar para array\n",
    "version = \"\"\n",
    "keywords = \"\"\n",
    "# para ler atrobitos multilinha\n",
    "# [ a ler sequencia, a ler referências, ...]\n",
    "estado = [ False, False ]\n",
    "\n",
    "# TITLE     Whole-genome random sequencing and assembly of Haemophilus\n",
    "#             influenzae Rd\n",
    "\n",
    "fonte = open(\"L42022.1.gb\",'r')\n",
    "#fonte = open(\"L42023.1.gb\",'r')\n",
    "for linha in fonte:\n",
    "    # print(linha)\n",
    "    if estado[0]:\n",
    "        # a ler sequencia\n",
    "        # print(linha)\n",
    "        # print(linha.strip())\n",
    "        if re.match(\"//\", linha):\n",
    "            print(\"Off\")\n",
    "            estado[0] = False\n",
    "            continue \n",
    "        else:\n",
    "            m = re.match(\"\\s+\\d+([actg ]+)\", linha)\n",
    "            sequencia += m.group(1).replace(\" \", \"\")    \n",
    "    if estado[1]:\n",
    "        if re.search(\"FEATURES\", linha):\n",
    "            estado[1] = False\n",
    "        elif re.search(\"SOURCE\", linha):\n",
    "            estado[1] = False\n",
    "        else:\n",
    "            references += linha\n",
    "    if not any(estado):\n",
    "        if re.search(\"VERSION\\s+[\\w.]+\", linha):\n",
    "            v = re.match(\"VERSION\\s+([\\w.]+)\", linha)\n",
    "            version = v.group(1)# print( m.group(1).replace(\" \", \"\") )\n",
    "        if re.match(\"KEYWORDS\", linha):\n",
    "        #    k = re.match(\"KEYWORDS\\s+([\\w ;.]+)\", linha)\n",
    "        #    keywords = k.group(1)\n",
    "            estado[1] = True\n",
    "            keywords = linha\n",
    "        if re.match(\"ORIGIN\", linha):\n",
    "            print(\"ORIGIN On\")\n",
    "            estado[0] = True\n",
    "            continue\n",
    "        if re.match(\"REFERENCE\", linha):\n",
    "            print(\"Title On\")\n",
    "            estado[1] = True\n",
    "            # v = re.match(\"REFERENCE\\s+(.+)\", linha)\n",
    "            references = linha # v.group(1)            \n",
    "fonte.close()\n",
    "print( version, keywords, references, sequencia, sep=\"\\n\" )"
   ]
  },
  {
   "cell_type": "code",
   "execution_count": 34,
   "metadata": {},
   "outputs": [
    {
     "ename": "ModuleNotFoundError",
     "evalue": "No module named 'Bio'",
     "output_type": "error",
     "traceback": [
      "\u001b[1;31m---------------------------------------------------------------------------\u001b[0m",
      "\u001b[1;31mModuleNotFoundError\u001b[0m                       Traceback (most recent call last)",
      "\u001b[1;32m~\\AppData\\Local\\Temp\\ipykernel_20284\\1001115586.py\u001b[0m in \u001b[0;36m<module>\u001b[1;34m\u001b[0m\n\u001b[0;32m      1\u001b[0m \u001b[1;31m# pip3 install Bio\u001b[0m\u001b[1;33m\u001b[0m\u001b[1;33m\u001b[0m\u001b[0m\n\u001b[1;32m----> 2\u001b[1;33m \u001b[1;32mfrom\u001b[0m \u001b[0mBio\u001b[0m\u001b[1;33m.\u001b[0m\u001b[0mSeq\u001b[0m \u001b[1;32mimport\u001b[0m \u001b[0mSeq\u001b[0m\u001b[1;33m\u001b[0m\u001b[1;33m\u001b[0m\u001b[0m\n\u001b[0m\u001b[0;32m      3\u001b[0m \u001b[1;33m\u001b[0m\u001b[0m\n\u001b[0;32m      4\u001b[0m \u001b[0mmy_seq\u001b[0m \u001b[1;33m=\u001b[0m \u001b[0mSeq\u001b[0m\u001b[1;33m(\u001b[0m\u001b[1;34m\"AGTACACTGGT\"\u001b[0m\u001b[1;33m)\u001b[0m\u001b[1;33m\u001b[0m\u001b[1;33m\u001b[0m\u001b[0m\n\u001b[0;32m      5\u001b[0m \u001b[0mprint\u001b[0m\u001b[1;33m(\u001b[0m \u001b[0mmy_seq\u001b[0m \u001b[1;33m)\u001b[0m\u001b[1;33m\u001b[0m\u001b[1;33m\u001b[0m\u001b[0m\n",
      "\u001b[1;31mModuleNotFoundError\u001b[0m: No module named 'Bio'"
     ]
    }
   ],
   "source": [
    "# pip3 install Bio\n",
    "from Bio.Seq import Seq\n",
    "\n",
    "my_seq = Seq(\"AGTACACTGGT\")\n",
    "print( my_seq )\n",
    "print( my_seq.complement() )\n",
    "print( my_seq.reverse_complement() )"
   ]
  },
  {
   "cell_type": "code",
   "execution_count": 1,
   "metadata": {},
   "outputs": [
    {
     "name": "stdout",
     "output_type": "stream",
     "text": [
      "L42022.1\n",
      "Seq('CATCCAGTACATGCAGGGCCTATTGCACCAGGCCAAATGAGAGAACCAAGGGGA...CCC')\n",
      "231\n"
     ]
    }
   ],
   "source": [
    "from Bio import SeqIO\n",
    "for seq_record in SeqIO.parse(\"../genbank/L42022.1.gb\", \"genbank\"):\n",
    "    print(seq_record.id)\n",
    "    print(repr(seq_record.seq))\n",
    "    print(len(seq_record))\n"
   ]
  },
  {
   "cell_type": "code",
   "execution_count": 22,
   "metadata": {},
   "outputs": [],
   "source": [
    "re.match(\"\\s\\d.+\", \"        1 catccagtac atgcagggcc tattgcacca ggccaaatga gagaaccaag gggaagtgac\")"
   ]
  }
 ],
 "metadata": {
  "authors": [
   {
    "name": "Jorge Gustavo Rocha"
   }
  ],
  "kernelspec": {
   "display_name": "Python 3 (ipykernel)",
   "language": "python",
   "name": "python3"
  },
  "language_info": {
   "codemirror_mode": {
    "name": "ipython",
    "version": 3
   },
   "file_extension": ".py",
   "mimetype": "text/x-python",
   "name": "python",
   "nbconvert_exporter": "python",
   "pygments_lexer": "ipython3",
   "version": "3.9.13"
  },
  "vscode": {
   "interpreter": {
    "hash": "916dbcbb3f70747c44a77c7bcd40155683ae19c65e1c03b4aa3499c5328201f1"
   }
  }
 },
 "nbformat": 4,
 "nbformat_minor": 2
}
